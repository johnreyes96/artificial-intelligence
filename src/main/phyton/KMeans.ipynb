{
  "nbformat": 4,
  "nbformat_minor": 0,
  "metadata": {
    "colab": {
      "name": "KMeans.ipynb",
      "provenance": [],
      "authorship_tag": "ABX9TyNI3QW2KHXVxyTtOvVeJ5lK",
      "include_colab_link": true
    },
    "kernelspec": {
      "name": "python3",
      "display_name": "Python 3"
    },
    "language_info": {
      "name": "python"
    }
  },
  "cells": [
    {
      "cell_type": "markdown",
      "metadata": {
        "id": "view-in-github",
        "colab_type": "text"
      },
      "source": [
        "<a href=\"https://colab.research.google.com/github/johnreyes96/artificial-intelligence/blob/master/src/main/phyton/KMeans.ipynb\" target=\"_parent\"><img src=\"https://colab.research.google.com/assets/colab-badge.svg\" alt=\"Open In Colab\"/></a>"
      ]
    },
    {
      "cell_type": "code",
      "execution_count": null,
      "metadata": {
        "id": "O7mNcnB8ahmk"
      },
      "outputs": [],
      "source": [
        "from sklearn.cluster import KMeans\n",
        "import numpy as np\n",
        "X = np.array([[1, 2], [3, 4], [4, 3], [5, 2], [5, 3], [6, 4], [6, 4], [5, 5], [-1, 5]])\n",
        "\n",
        "initi = np.array([[3, 4], [7, 2]], np.float64)\n",
        "\n",
        "model = KMeans(init = initi, n_init=2, random_state = 0).fit(X)\n",
        "# ALGORITMO NO FUNCIONAL"
      ]
    },
    {
      "cell_type": "code",
      "source": [
        "def distance(a, b):\n",
        "  d = (a[0] - b[0])**2 + (a[1] - b[1])**2\n",
        "  return d\n",
        "\n",
        "distance([2, 4], [4, 6])\n",
        "\n",
        "X = [[1, 2], [3, 4], [4, 3], [5, 2], [5, 3], [6, 4], [6, 4], [5, 5], [-1, 5]]\n",
        "C1 = [3, 4]\n",
        "C2 = [7, 2]\n",
        "\n",
        "for i in range(10):\n",
        "  cluster_1 = []\n",
        "  cluster_2 = []\n",
        "  # asignacion\n",
        "  for x in X:\n",
        "    if distance(x, C1) < distance(x, C2):\n",
        "      cluster_1.append(x)\n",
        "    else:\n",
        "      cluster_2.append(x)\n",
        "\n",
        "  # actualizacion\n",
        "  C1 = np.mean(cluster_1, axis = 0)\n",
        "  C2 = np.mean(cluster_2, axis = 0)\n",
        "  print(\"iteracion \" + str(i))\n",
        "  print(C1)\n",
        "  print(C2)"
      ],
      "metadata": {
        "colab": {
          "base_uri": "https://localhost:8080/"
        },
        "id": "fa7PButCap9Q",
        "outputId": "addc22c2-bb2a-4ba6-fe89-0c91c69bc58b"
      },
      "execution_count": 3,
      "outputs": [
        {
          "output_type": "stream",
          "name": "stdout",
          "text": [
            "iteracion 0\n",
            "[2.4 3.8]\n",
            "[5.5  3.25]\n",
            "iteracion 1\n",
            "[1.         3.66666667]\n",
            "[5.16666667 3.5       ]\n",
            "iteracion 2\n",
            "[1.         3.66666667]\n",
            "[5.16666667 3.5       ]\n",
            "iteracion 3\n",
            "[1.         3.66666667]\n",
            "[5.16666667 3.5       ]\n",
            "iteracion 4\n",
            "[1.         3.66666667]\n",
            "[5.16666667 3.5       ]\n",
            "iteracion 5\n",
            "[1.         3.66666667]\n",
            "[5.16666667 3.5       ]\n",
            "iteracion 6\n",
            "[1.         3.66666667]\n",
            "[5.16666667 3.5       ]\n",
            "iteracion 7\n",
            "[1.         3.66666667]\n",
            "[5.16666667 3.5       ]\n",
            "iteracion 8\n",
            "[1.         3.66666667]\n",
            "[5.16666667 3.5       ]\n",
            "iteracion 9\n",
            "[1.         3.66666667]\n",
            "[5.16666667 3.5       ]\n"
          ]
        }
      ]
    }
  ]
}