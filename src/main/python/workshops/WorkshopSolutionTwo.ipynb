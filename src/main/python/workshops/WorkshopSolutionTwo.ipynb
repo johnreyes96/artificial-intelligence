{
  "nbformat": 4,
  "nbformat_minor": 0,
  "metadata": {
    "colab": {
      "name": "WorkshopSolutionTwo.ipynb",
      "provenance": [],
      "authorship_tag": "ABX9TyNonCXZfi9C77UygoP3mIPa",
      "include_colab_link": true
    },
    "kernelspec": {
      "name": "python3",
      "display_name": "Python 3"
    },
    "language_info": {
      "name": "python"
    }
  },
  "cells": [
    {
      "cell_type": "markdown",
      "metadata": {
        "id": "view-in-github",
        "colab_type": "text"
      },
      "source": [
        "<a href=\"https://colab.research.google.com/github/johnreyes96/artificial-intelligence/blob/master/src/main/python/workshops/WorkshopSolutionTwo.ipynb\" target=\"_parent\"><img src=\"https://colab.research.google.com/assets/colab-badge.svg\" alt=\"Open In Colab\"/></a>"
      ]
    },
    {
      "cell_type": "markdown",
      "source": [
        "Punto 1"
      ],
      "metadata": {
        "id": "XfvnORiWhkUB"
      }
    },
    {
      "cell_type": "code",
      "execution_count": 71,
      "metadata": {
        "colab": {
          "base_uri": "https://localhost:8080/",
          "height": 652
        },
        "id": "5CJFXNykDfIe",
        "outputId": "5825865f-506e-4230-b9fc-a3e371fb1cbd"
      },
      "outputs": [
        {
          "output_type": "stream",
          "name": "stdout",
          "text": [
            "\n",
            "Iteracion 1\n",
            "Centroide 1: [2.4 3.8]\n",
            "Centroide 2: [5.33333333 3.        ]\n"
          ]
        },
        {
          "output_type": "display_data",
          "data": {
            "text/plain": [
              "<Figure size 432x288 with 1 Axes>"
            ],
            "image/png": "[encoded data removed]"
          },
          "metadata": {
            "needs_background": "light"
          }
        },
        {
          "output_type": "stream",
          "name": "stdout",
          "text": [
            "\n",
            "Iteracion 2\n",
            "Centroide 1: [1.         3.66666667]\n",
            "Centroide 2: [5.  3.4]\n"
          ]
        },
        {
          "output_type": "display_data",
          "data": {
            "text/plain": [
              "<Figure size 432x288 with 1 Axes>"
            ],
            "image/png": "[encoded data removed]"
          },
          "metadata": {
            "needs_background": "light"
          }
        }
      ],
      "source": [
        "from sklearn.cluster import KMeans\n",
        "import matplotlib.pyplot as plt\n",
        "import numpy as np\n",
        "\n",
        "def distance(a, b):\n",
        "  d = (a[0] - b[0])**2 + (a[1] - b[1])**2\n",
        "  return d\n",
        "\n",
        "C1 = [3, 4]\n",
        "C2 = [7, 2]\n",
        "\n",
        "for i in range(2):\n",
        "  cluster_1 = []\n",
        "  cluster_2 = []\n",
        "  cluster_teams = []\n",
        "  X = [[1, 2], [3, 4], [4, 3], [5, 2], [5, 3], [6, 4], [5, 5], [-1, 5]]\n",
        "  cluster_centroide = X\n",
        "  # asignacion\n",
        "  for x in X:\n",
        "    if distance(x, C1) < distance(x, C2):\n",
        "      cluster_1.append(x)\n",
        "      cluster_teams.append(1)\n",
        "    else:\n",
        "      cluster_2.append(x)\n",
        "      cluster_teams.append(2)\n",
        "\n",
        "  # actualizacion\n",
        "  C1 = np.mean(cluster_1, axis = 0)\n",
        "  cluster_centroide.append(C1)\n",
        "  cluster_teams.append(0)\n",
        "  C2 = np.mean(cluster_2, axis = 0)\n",
        "  cluster_centroide.append(C2)\n",
        "  cluster_teams.append(0)\n",
        "  print(\"\\nIteracion \" + str(i+1))\n",
        "  print(\"Centroide 1: \" + str(C1))\n",
        "  print(\"Centroide 2: \" + str(C2))\n",
        "  fig, ax = plt.subplots()\n",
        "  ndarray = np.array(cluster_centroide)\n",
        "  ax.scatter(x=ndarray[:,0], y=ndarray[:,1], c=np.array(cluster_teams))\n",
        "  plt.show()"
      ]
    }
  ]
}