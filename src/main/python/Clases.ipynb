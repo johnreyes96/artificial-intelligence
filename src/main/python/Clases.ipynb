{
  "nbformat": 4,
  "nbformat_minor": 0,
  "metadata": {
    "colab": {
      "name": "Clases.ipynb",
      "provenance": [],
      "collapsed_sections": [],
      "authorship_tag": "ABX9TyOf8MOTRwkZ27rMFq20VqLX",
      "include_colab_link": true
    },
    "kernelspec": {
      "name": "python3",
      "display_name": "Python 3"
    },
    "language_info": {
      "name": "python"
    }
  },
  "cells": [
    {
      "cell_type": "markdown",
      "metadata": {
        "id": "view-in-github",
        "colab_type": "text"
      },
      "source": [
        "<a href=\"https://colab.research.google.com/github/johnreyes96/artificial-intelligence/blob/master/src/main/python/Clases.ipynb\" target=\"_parent\"><img src=\"https://colab.research.google.com/assets/colab-badge.svg\" alt=\"Open In Colab\"/></a>"
      ]
    },
    {
      "cell_type": "code",
      "execution_count": 16,
      "metadata": {
        "colab": {
          "base_uri": "https://localhost:8080/",
          "height": 352
        },
        "id": "ewoN3P08K9iJ",
        "outputId": "26c6115f-9b7f-46dd-d162-b0aac0fa548c"
      },
      "outputs": [
        {
          "output_type": "stream",
          "name": "stdout",
          "text": [
            "[ 0.33333333 -0.33333333]\n"
          ]
        },
        {
          "output_type": "display_data",
          "data": {
            "image/png": "[encoded data removed]",
            "text/plain": [
              "<Figure size 432x288 with 1 Axes>"
            ]
          },
          "metadata": {
            "needs_background": "light"
          }
        },
        {
          "output_type": "stream",
          "name": "stdout",
          "text": [
            "1.1999999999999997\n",
            "-0.7999999999999999\n",
            "0.0\n",
            "4\n"
          ]
        }
      ],
      "source": [
        "import numpy as np\n",
        "import matplotlib.pyplot as plt\n",
        "\n",
        "w = np.array([3, 2])\n",
        "b = -1\n",
        "\n",
        "x2 = np.array([0, 1])\n",
        "x1 = -(w[1]*x2/w[0])-(b/w[0])\n",
        "print(x1)\n",
        "\n",
        "fig, ax = plt.subplots()\n",
        "\n",
        "ax.plot(x2, x1, linewidth=2.0)\n",
        "ax.scatter(x=np.array([0.6, 0.2]), y=np.array([0.2, -0.2]), c=['yellow','red'])\n",
        "plt.show()\n",
        "\n",
        "print(np.dot(w, np.array([0.6, 0.2])) + b)\n",
        "print(np.dot(w, np.array([0.2, -0.2])) + b)\n",
        "print(np.dot(w,np.array([1/3,0]))+b)\n",
        "print(np.dot(w,np.array([1,1]))+b)\n",
        "w = np.array([3,2])"
      ]
    },
    {
      "cell_type": "code",
      "source": [
        "# perception\n",
        "import numpy as np\n",
        "import matplotlib.pyplot as plt\n",
        "from sklearn.datasets import make_blobs\n",
        "\n",
        "X, y = make_blobs(n_samples=30, centers=2, n_features=2, random_state=0)\n",
        "\n",
        "fig, ax = plt.subplots()\n",
        "\n",
        "ax.scatter(x=X[:,0], y=X[:,1], c=y)\n",
        "plt.show()"
      ],
      "metadata": {
        "colab": {
          "base_uri": "https://localhost:8080/",
          "height": 266
        },
        "id": "m1pNA_tZOTLJ",
        "outputId": "a1cdde37-53ba-4f19-97a4-37a0f4bc93de"
      },
      "execution_count": 17,
      "outputs": [
        {
          "output_type": "display_data",
          "data": {
            "image/png": "[encoded data removed]",
            "text/plain": [
              "<Figure size 432x288 with 1 Axes>"
            ]
          },
          "metadata": {
            "needs_background": "light"
          }
        }
      ]
    },
    {
      "cell_type": "code",
      "source": [
        "W = np.zeros(2)\n",
        "b = 0\n",
        "print(W.shape)\n",
        "\n",
        "print('X_0:')\n",
        "print(X[0,:])\n",
        "print('W: ')\n",
        "print(W)"
      ],
      "metadata": {
        "colab": {
          "base_uri": "https://localhost:8080/"
        },
        "id": "vz4Peq_9RdG1",
        "outputId": "1ba6e085-899a-409d-db70-fc1b02b481b1"
      },
      "execution_count": 6,
      "outputs": [
        {
          "output_type": "stream",
          "name": "stdout",
          "text": [
            "(2,)\n",
            "X_0:\n",
            "[0.34899733 2.84843906]\n",
            "W: \n",
            "[0. 0.]\n"
          ]
        }
      ]
    },
    {
      "cell_type": "code",
      "source": [
        "def dot(p, q):\n",
        "  return p[0]*q[0]+p[1]*q[1]"
      ],
      "metadata": {
        "id": "YYn_HTtEaSZs"
      },
      "execution_count": 7,
      "outputs": []
    },
    {
      "cell_type": "code",
      "source": [
        "dot(W,X[0,:])"
      ],
      "metadata": {
        "colab": {
          "base_uri": "https://localhost:8080/"
        },
        "id": "A1IJoiA_DKrN",
        "outputId": "08c4c452-67fd-4b4d-85a8-9b15556fc782"
      },
      "execution_count": 14,
      "outputs": [
        {
          "output_type": "execute_result",
          "data": {
            "text/plain": [
              "6.3086306276457735"
            ]
          },
          "metadata": {},
          "execution_count": 14
        }
      ]
    },
    {
      "cell_type": "code",
      "source": [
        "b = 0"
      ],
      "metadata": {
        "id": "RernXqnSDYpz"
      },
      "execution_count": 12,
      "outputs": []
    },
    {
      "cell_type": "code",
      "source": [
        "\n",
        "res = y[0]*(np.dot(W,X[0,:]) + b)\n",
        "print(res)"
      ],
      "metadata": {
        "colab": {
          "base_uri": "https://localhost:8080/"
        },
        "id": "WlU3_gC2DTHL",
        "outputId": "867bcb35-fa25-45cc-b216-338c83c9d260"
      },
      "execution_count": 13,
      "outputs": [
        {
          "output_type": "stream",
          "name": "stdout",
          "text": [
            "6.3086306276457735\n"
          ]
        }
      ]
    },
    {
      "cell_type": "code",
      "source": [
        "# Paso 1: inicialización\n",
        "W = np.zeros(2)\n",
        "b = 0\n",
        "\n",
        "# Paso 4: repetir pasos 2 y 3\n",
        "for i in range(30):\n",
        "\n",
        "  # Paso 2: verificar si la muestra x_i está bien clasificada\n",
        "  res = y[i] * (dot(X[i,:], W) + b)\n",
        "\n",
        "  # Paso 3: Actualizar W y b si está mal aplicada\n",
        "  if res <= 0:\n",
        "    W = W + y[i] * X[i,:]\n",
        "    b = y[i] + b\n",
        "\n",
        "print('W:')\n",
        "print(W)\n",
        "\n",
        "print('b:')\n",
        "print(b)"
      ],
      "metadata": {
        "colab": {
          "base_uri": "https://localhost:8080/"
        },
        "id": "NAwHFZPmThPc",
        "outputId": "cdaf310c-c15f-4afe-f53c-46bc722a7960"
      },
      "execution_count": 18,
      "outputs": [
        {
          "output_type": "stream",
          "name": "stdout",
          "text": [
            "W:\n",
            "[1.59111857 2.01982011]\n",
            "b:\n",
            "2\n"
          ]
        }
      ]
    },
    {
      "cell_type": "code",
      "source": [
        "import numpy as np\n",
        "import matplotlib.pyplot as plt\n",
        "from sklearn.datasets import make_blobs\n",
        "\n",
        "X, y = make_blobs(n_samples=30, centers=2, n_features=2, random_state=0)\n",
        "\n",
        "fig, ax = plt.subplots()\n",
        "\n",
        "\n",
        "x_ = np.array([-2, 3])\n",
        "y_ = -(W[1]*x_/W[0])-(b/W[0])\n",
        "\n",
        "fig, ax = plt.subplots()\n",
        "\n",
        "ax.plot(x_, y_, linewidth=2.0)\n",
        "ax.scatter(x=X[:,0], y=X[:,1], c=y)\n",
        "plt.show()"
      ],
      "metadata": {
        "colab": {
          "base_uri": "https://localhost:8080/",
          "height": 517
        },
        "id": "3I3CPq6nDos1",
        "outputId": "8a3c6f58-4a23-4045-9f30-4b92d1351751"
      },
      "execution_count": 19,
      "outputs": [
        {
          "output_type": "display_data",
          "data": {
            "image/png": "[encoded data removed]",
            "text/plain": [
              "<Figure size 432x288 with 1 Axes>"
            ]
          },
          "metadata": {
            "needs_background": "light"
          }
        },
        {
          "output_type": "display_data",
          "data": {
            "image/png": "[encoded data removed]",
            "text/plain": [
              "<Figure size 432x288 with 1 Axes>"
            ]
          },
          "metadata": {
            "needs_background": "light"
          }
        }
      ]
    }
  ]
}