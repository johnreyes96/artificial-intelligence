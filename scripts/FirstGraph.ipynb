{
  "nbformat": 4,
  "nbformat_minor": 0,
  "metadata": {
    "colab": {
      "name": "20220214.ipynb",
      "provenance": [],
      "authorship_tag": "ABX9TyPzwyTvoTJ6+6pD9CukCl3O",
      "include_colab_link": true
    },
    "kernelspec": {
      "name": "python3",
      "display_name": "Python 3"
    },
    "language_info": {
      "name": "python"
    }
  },
  "cells": [
    {
      "cell_type": "markdown",
      "metadata": {
        "id": "view-in-github",
        "colab_type": "text"
      },
      "source": [
        "<a href=\"https://colab.research.google.com/github/johnreyes96/artificial-intelligence/blob/master/src/main/python/FirstGraph.ipynb\" target=\"_parent\"><img src=\"https://colab.research.google.com/assets/colab-badge.svg\" alt=\"Open In Colab\"/></a>"
      ]
    },
    {
      "cell_type": "code",
      "execution_count": 1,
      "metadata": {
        "colab": {
          "base_uri": "https://localhost:8080/",
          "height": 352
        },
        "id": "nCWNUe7xJBOA",
        "outputId": "c1fdc52a-b2b8-473c-edbb-4b49d574e627"
      },
      "outputs": [
        {
          "output_type": "stream",
          "name": "stdout",
          "text": [
            "[ 0.33333333 -0.33333333]\n"
          ]
        },
        {
          "output_type": "display_data",
          "data": {
            "image/png": "[encoded data removed]",
            "text/plain": [
              "<Figure size 432x288 with 1 Axes>"
            ]
          },
          "metadata": {
            "needs_background": "light"
          }
        },
        {
          "output_type": "stream",
          "name": "stdout",
          "text": [
            "1.1999999999999997\n",
            "-0.7999999999999999\n",
            "0.0\n",
            "4\n"
          ]
        }
      ],
      "source": [
        "import numpy as np\n",
        "import matplotlib.pyplot as plt\n",
        "\n",
        "w = np.array([3, 2])\n",
        "b = -1\n",
        "\n",
        "x2 = np.array([0, 1])\n",
        "x1 = -(w[1]*x2/w[0])-(b/w[0])\n",
        "print(x1)\n",
        "\n",
        "fig, ax = plt.subplots()\n",
        "\n",
        "ax.plot(x2, x1, linewidth=2.0)\n",
        "ax.scatter(x=np.array([0.6, 0.2]), y=np.array([0.2, -0.2]), c=['yellow','red'])\n",
        "plt.show()\n",
        "\n",
        "print(np.dot(w, np.array([0.6, 0.2])) + b)\n",
        "print(np.dot(w, np.array([0.2, -0.2])) + b)\n",
        "print(np.dot(w,np.array([1/3,0]))+b)\n",
        "print(np.dot(w,np.array([1,1]))+b)\n",
        "w = np.array([3,2])"
      ]
    }
  ]
}